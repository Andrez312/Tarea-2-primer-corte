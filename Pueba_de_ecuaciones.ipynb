{
  "nbformat": 4,
  "nbformat_minor": 0,
  "metadata": {
    "colab": {
      "provenance": [],
      "include_colab_link": true
    },
    "kernelspec": {
      "name": "python3",
      "display_name": "Python 3"
    },
    "language_info": {
      "name": "python"
    }
  },
  "cells": [
    {
      "cell_type": "markdown",
      "metadata": {
        "id": "view-in-github",
        "colab_type": "text"
      },
      "source": [
        "<a href=\"https://colab.research.google.com/github/Andrez312/Tarea-2-primer-corte/blob/ejercicio-ecuacion-2/Pueba_de_ecuaciones.ipynb\" target=\"_parent\"><img src=\"https://colab.research.google.com/assets/colab-badge.svg\" alt=\"Open In Colab\"/></a>"
      ]
    },
    {
      "cell_type": "markdown",
      "source": [
        "# TAREA 2 PRIMER CORTE ECUACIONES."
      ],
      "metadata": {
        "id": "RvJJd2hee9iU"
      }
    },
    {
      "cell_type": "markdown",
      "source": [
        "Integrantes:\n",
        "1.   Andres arrieta salcedo.\n",
        "2.   Laura corpas\n",
        "3. Kevin calle\n"
      ],
      "metadata": {
        "id": "uUbS23NLfPad"
      }
    },
    {
      "cell_type": "markdown",
      "source": [
        "## DEMOSTRACION ECUACION 2\n",
        "###Ecuacion de movimiento parabolico.\n"
      ],
      "metadata": {
        "id": "SWf4dNdRr9Jf"
      }
    },
    {
      "cell_type": "markdown",
      "source": [
        "Tenemos que la ecuacion de movimiento parabolico seria:\n",
        "$$\n",
        "y(x)= x \\tan(θ)- \\frac{g x^2}{2(v_0 \\cos(θ))^2}\n",
        "$$\n",
        "\n",
        "- donde y(x) es la altura horizontal\n",
        "- x es la distancia horizontal\n",
        "- θ es el angulo de lanzamiento\n",
        "- g es la aceleracion gravitacional\n",
        "- Vo es la velocidad inicial\n",
        "\n"
      ],
      "metadata": {
        "id": "SPp5jTLXvSiS"
      }
    },
    {
      "cell_type": "markdown",
      "source": [
        "## Ejercicio planteado para ela ecuacion.\n",
        "\n",
        "### Ejercicio: Lanzamiento de pelota en el parque\n",
        "\n",
        "*Imagina que estás en un parque y quieres lanzar una pelota para que aterrice en un punto específico.*\n",
        "\n",
        "- Lanzas la pelota con una velocidad inicial de \\( v_0 = 15 \\, \\text{m/s} \\) desde el suelo.\n",
        "- El ángulo de lanzamiento es (θ = 45∘ ).\n",
        "- Calcula a qué altura estará la pelota cuando haya recorrido 10 metros en la horizontal (x = 10 m).\n",
        "\n",
        "### Paso a paso:\n",
        "\n",
        "1. Usa la ecuación de trayectoria parabólica para calcular la altura y(x) a los 10 metros de distancia horizontal.\n",
        "2. Considera la aceleración de la gravedad ( g = 9.81 , m/s^2).\n"
      ],
      "metadata": {
        "id": "ZOG2l9_0zi59"
      }
    },
    {
      "cell_type": "code",
      "source": [
        "# prompt: Escribe codigo de python para resolver el ejercicio \"lanzamiento de pelota en el parque\", por favor, no uses funciones definidas por el usuario\n",
        "\n",
        "import math\n",
        "\n",
        "# Datos del problema\n",
        "v0 = 15  # Velocidad inicial (m/s)\n",
        "theta = 45  # Angulo de lanzamiento (grados)\n",
        "x = 10  # Distancia horizontal (m)\n",
        "g = 9.81  # Aceleración de la gravedad (m/s^2)\n",
        "\n",
        "# Convertir el ángulo a radianes\n",
        "theta_rad = math.radians(theta)\n",
        "\n",
        "# Calcular la altura y(x)\n",
        "y = x * math.tan(theta_rad) - (g * x**2) / (2 * (v0 * math.cos(theta_rad))**2)\n",
        "\n",
        "# Imprimir el resultado\n",
        "print(\"La altura de la pelota a los 10 metros de distancia horizontal es:\", y, \"metros\")\n"
      ],
      "metadata": {
        "colab": {
          "base_uri": "https://localhost:8080/"
        },
        "id": "0ICH5LhX24BX",
        "outputId": "03a16e57-707b-449c-9aa2-6956d98f1ef5"
      },
      "execution_count": null,
      "outputs": [
        {
          "output_type": "stream",
          "name": "stdout",
          "text": [
            "La altura de la pelota a los 10 metros de distancia horizontal es: 5.639999999999999 metros\n"
          ]
        }
      ]
    },
    {
      "cell_type": "code",
      "source": [
        "# prompt:  Escribe codigo anterior utilizando funciones definidas por el usuario\n",
        "\n",
        "import math\n",
        "\n",
        "def calcular_altura_parabolico(v0, theta, x, g):\n",
        "  \"\"\"\n",
        "  Calcula la altura de un objeto en movimiento parabólico.\n",
        "\n",
        "  Args:\n",
        "    v0: Velocidad inicial (m/s).\n",
        "    theta: Ángulo de lanzamiento (grados).\n",
        "    x: Distancia horizontal (m).\n",
        "    g: Aceleración de la gravedad (m/s^2).\n",
        "\n",
        "  Returns:\n",
        "    La altura del objeto en la distancia horizontal especificada.\n",
        "  \"\"\"\n",
        "  theta_rad = math.radians(theta)\n",
        "  y = x * math.tan(theta_rad) - (g * x**2) / (2 * (v0 * math.cos(theta_rad))**2)\n",
        "  return y\n",
        "\n",
        "\n",
        "# Datos del problema\n",
        "v0 = 15  # Velocidad inicial (m/s)\n",
        "theta = 45  # Angulo de lanzamiento (grados)\n",
        "x = 10  # Distancia horizontal (m)\n",
        "g = 9.81  # Aceleración de la gravedad (m/s^2)\n",
        "\n",
        "\n",
        "# Calcular la altura y(x) usando la función\n",
        "y = calcular_altura_parabolico(v0, theta, x, g)\n",
        "\n",
        "# Imprimir el resultado\n",
        "print(\"La altura de la pelota a los 10 metros de distancia horizontal es:\", y, \"metros\")\n"
      ],
      "metadata": {
        "colab": {
          "base_uri": "https://localhost:8080/"
        },
        "id": "rqF3_MWl3Bgx",
        "outputId": "6a4207ea-976f-4998-925d-8117adb5c3c6"
      },
      "execution_count": null,
      "outputs": [
        {
          "output_type": "stream",
          "name": "stdout",
          "text": [
            "La altura de la pelota a los 10 metros de distancia horizontal es: 5.639999999999999 metros\n"
          ]
        }
      ]
    }
  ]
}