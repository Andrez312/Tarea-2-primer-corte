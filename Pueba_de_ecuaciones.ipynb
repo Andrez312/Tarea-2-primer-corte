{
  "nbformat": 4,
  "nbformat_minor": 0,
  "metadata": {
    "colab": {
      "provenance": [],
      "include_colab_link": true
    },
    "kernelspec": {
      "name": "python3",
      "display_name": "Python 3"
    },
    "language_info": {
      "name": "python"
    }
  },
  "cells": [
    {
      "cell_type": "markdown",
      "metadata": {
        "id": "view-in-github",
        "colab_type": "text"
      },
      "source": [
        "<a href=\"https://colab.research.google.com/github/Andrez312/Tarea-2-primer-corte/blob/ejercicio-ecuacion-3/Pueba_de_ecuaciones.ipynb\" target=\"_parent\"><img src=\"https://colab.research.google.com/assets/colab-badge.svg\" alt=\"Open In Colab\"/></a>"
      ]
    },
    {
      "cell_type": "markdown",
      "source": [
        "# TAREA 2 PRIMER CORTE ECUACIONES."
      ],
      "metadata": {
        "id": "RvJJd2hee9iU"
      }
    },
    {
      "cell_type": "markdown",
      "source": [
        "Integrantes:\n",
        "1.   Andres arrieta salcedo.\n",
        "2.   Laura corpas\n",
        "3. Kevin calle\n"
      ],
      "metadata": {
        "id": "uUbS23NLfPad"
      }
    },
    {
      "cell_type": "markdown",
      "source": [
        "## DEMOSTRACION ECUACION 2\n",
        "###Ecuacion de movimiento parabolico.\n"
      ],
      "metadata": {
        "id": "SWf4dNdRr9Jf"
      }
    },
    {
      "cell_type": "markdown",
      "source": [
        "Tenemos que la ecuacion de movimiento parabolico seria:\n",
        "$$\n",
        "y(x)= x \\tan(θ)- \\frac{g x^2}{2(v_0 \\cos(θ))^2}\n",
        "$$\n",
        "\n",
        "- donde y(x) es la altura horizontal\n",
        "- x es la distancia horizontal\n",
        "- θ es el angulo de lanzamiento\n",
        "- g es la aceleracion gravitacional\n",
        "- Vo es la velocidad inicial\n",
        "\n"
      ],
      "metadata": {
        "id": "SPp5jTLXvSiS"
      }
    },
    {
      "cell_type": "markdown",
      "source": [
        "## Ejercicio planteado para ela ecuacion.\n",
        "\n",
        "### Ejercicio: Lanzamiento de pelota en el parque\n",
        "\n",
        "*Imagina que estás en un parque y quieres lanzar una pelota para que aterrice en un punto específico.*\n",
        "\n",
        "- Lanzas la pelota con una velocidad inicial de \\( v_0 = 15 \\, \\text{m/s} \\) desde el suelo.\n",
        "- El ángulo de lanzamiento es (θ = 45∘ ).\n",
        "- Calcula a qué altura estará la pelota cuando haya recorrido 10 metros en la horizontal (x = 10 m).\n",
        "\n",
        "### Paso a paso:\n",
        "\n",
        "1. Usa la ecuación de trayectoria parabólica para calcular la altura y(x) a los 10 metros de distancia horizontal.\n",
        "2. Considera la aceleración de la gravedad ( g = 9.81 , m/s^2).\n"
      ],
      "metadata": {
        "id": "ZOG2l9_0zi59"
      }
    },
    {
      "cell_type": "code",
      "source": [
        "# prompt: Escribe codigo de python para resolver el ejercicio \"lanzamiento de pelota en el parque\", por favor, no uses funciones definidas por el usuario\n",
        "\n",
        "import math\n",
        "\n",
        "# Datos del problema\n",
        "v0 = 15  # Velocidad inicial (m/s)\n",
        "theta = 45  # Angulo de lanzamiento (grados)\n",
        "x = 10  # Distancia horizontal (m)\n",
        "g = 9.81  # Aceleración de la gravedad (m/s^2)\n",
        "\n",
        "# Convertir el ángulo a radianes\n",
        "theta_rad = math.radians(theta)\n",
        "\n",
        "# Calcular la altura y(x)\n",
        "y = x * math.tan(theta_rad) - (g * x**2) / (2 * (v0 * math.cos(theta_rad))**2)\n",
        "\n",
        "# Imprimir el resultado\n",
        "print(\"La altura de la pelota a los 10 metros de distancia horizontal es:\", y, \"metros\")\n"
      ],
      "metadata": {
        "colab": {
          "base_uri": "https://localhost:8080/"
        },
        "id": "0ICH5LhX24BX",
        "outputId": "f0783e10-35d2-4ffe-d4c1-417a39d9b2d0"
      },
      "execution_count": 6,
      "outputs": [
        {
          "output_type": "stream",
          "name": "stdout",
          "text": [
            "La altura de la pelota a los 10 metros de distancia horizontal es: 5.639999999999999 metros\n"
          ]
        }
      ]
    },
    {
      "cell_type": "code",
      "source": [
        "# prompt:  Escribe codigo anterior utilizando funciones definidas por el usuario\n",
        "\n",
        "import math\n",
        "\n",
        "def calcular_altura_parabolico(v0, theta, x, g):\n",
        "  \"\"\"\n",
        "  Calcula la altura de un objeto en movimiento parabólico.\n",
        "\n",
        "  Args:\n",
        "    v0: Velocidad inicial (m/s).\n",
        "    theta: Ángulo de lanzamiento (grados).\n",
        "    x: Distancia horizontal (m).\n",
        "    g: Aceleración de la gravedad (m/s^2).\n",
        "\n",
        "  Returns:\n",
        "    La altura del objeto en la distancia horizontal especificada.\n",
        "  \"\"\"\n",
        "  theta_rad = math.radians(theta)\n",
        "  y = x * math.tan(theta_rad) - (g * x**2) / (2 * (v0 * math.cos(theta_rad))**2)\n",
        "  return y\n",
        "\n",
        "\n",
        "# Datos del problema\n",
        "v0 = 15  # Velocidad inicial (m/s)\n",
        "theta = 45  # Angulo de lanzamiento (grados)\n",
        "x = 10  # Distancia horizontal (m)\n",
        "g = 9.81  # Aceleración de la gravedad (m/s^2)\n",
        "\n",
        "\n",
        "# Calcular la altura y(x) usando la función\n",
        "y = calcular_altura_parabolico(v0, theta, x, g)\n",
        "\n",
        "# Imprimir el resultado\n",
        "print(\"La altura de la pelota a los 10 metros de distancia horizontal es:\", y, \"metros\")\n"
      ],
      "metadata": {
        "colab": {
          "base_uri": "https://localhost:8080/"
        },
        "id": "rqF3_MWl3Bgx",
        "outputId": "cd31c608-e172-43e5-8a19-68c32add5862"
      },
      "execution_count": 5,
      "outputs": [
        {
          "output_type": "stream",
          "name": "stdout",
          "text": [
            "La altura de la pelota a los 10 metros de distancia horizontal es: 5.639999999999999 metros\n"
          ]
        }
      ]
    },
    {
      "cell_type": "markdown",
      "source": [
        "## DEMOSTRACION ECUACION 3\n",
        "### Ecuacion de la ley de ohm para resistencia electrica.\n",
        "\n",
        "tenemos que la ecuacion de la ley de ohm es la siguiente:\n",
        "$$\n",
        "V = I*R\n",
        "$$\n",
        "\n",
        "donde\n",
        "- V es voltaje\n",
        "- I corriente electrica\n",
        "- R resistencia electrica"
      ],
      "metadata": {
        "id": "WVJPcsRw59sh"
      }
    },
    {
      "cell_type": "markdown",
      "source": [
        "###Ejercicio: La lampara\n",
        "\n",
        "Tienes una lámpara que funciona con una resistencia de \\( R = 15 Ω) conectada a una batería que proporciona un voltaje de ( V = 12 v). Sin embargo, debido al uso de un regulador de corriente, la lámpara no está funcionando a su máxima potencia. Sabes que la corriente que pasa por el circuito es de ( I = 0.6 A).\n",
        "\n",
        "*Pregunta 1:* ¿Cuál es la resistencia total efectiva del circuito que limita la corriente a 0.6 A?\n",
        "\n",
        "*Pregunta 2:* Si añadimos en serie otra resistencia de ( R2 = 10 Ω), ¿cuál sería la nueva corriente que pasa por el circuito?\n",
        "\n",
        "### Paso a paso:\n",
        "\n",
        "*Parte 1:* Usa la Ley de Ohm para calcular la resistencia total efectiva del circuito en la primera parte del problema.\n",
        "\n",
        "$$\n",
        "R_\\text{total} = \\frac{V}{I}\n",
        "$$\n",
        "\n",
        "*Parte 2:* Cuando añades una resistencia en serie, la resistencia total del circuito cambia. Ahora, la nueva resistencia total sería:\n",
        "\n",
        "$$\n",
        "R_\\text{nueva} = R + R_2\n",
        "$$\n",
        "\n",
        "Luego, puedes calcular la nueva corriente usando la Ley de Ohm:\n",
        "\n",
        "$$\n",
        "I_\\text{nueva} = \\frac{V}{R_\\text{nueva}}\n",
        "$$\n",
        "\n",
        "\n"
      ],
      "metadata": {
        "id": "rydV6EHJ79UX"
      }
    },
    {
      "cell_type": "code",
      "source": [
        "# prompt: Escribe un codigo que resuelva el ejercicio \"la lampara\", por favor, no uses las funciones definidas por el usuario.\n",
        "\n",
        "# Datos del problema\n",
        "V = 12  # Voltaje (V)\n",
        "R = 15  # Resistencia de la lámpara (Ω)\n",
        "I = 0.6  # Corriente en el circuito (A)\n",
        "R2 = 10  # Resistencia adicional (Ω)\n",
        "\n",
        "# Pregunta 1: Resistencia total efectiva\n",
        "R_total = V / I\n",
        "\n",
        "print(\"La resistencia total efectiva del circuito es:\", R_total, \"Ω\")\n",
        "\n",
        "# Pregunta 2: Nueva corriente con resistencia adicional en serie\n",
        "R_nueva = R + R2\n",
        "I_nueva = V / R_nueva\n",
        "\n",
        "print(\"La nueva corriente que pasa por el circuito es:\", I_nueva, \"A\")\n"
      ],
      "metadata": {
        "colab": {
          "base_uri": "https://localhost:8080/"
        },
        "id": "e7xRarjh96GI",
        "outputId": "ceca8c70-fe47-4492-c271-020a938a74a9"
      },
      "execution_count": 4,
      "outputs": [
        {
          "output_type": "stream",
          "name": "stdout",
          "text": [
            "La resistencia total efectiva del circuito es: 20.0 Ω\n",
            "La nueva corriente que pasa por el circuito es: 0.48 A\n"
          ]
        }
      ]
    },
    {
      "cell_type": "code",
      "source": [
        "# prompt: escribe el codigo anterior usando las funciones definidas por el usuario\n",
        "\n",
        "import math\n",
        "\n",
        "def calcular_altura_parabolico(v0, theta, x, g):\n",
        "  \"\"\"\n",
        "  Calcula la altura de un objeto en movimiento parabólico.\n",
        "\n",
        "  Args:\n",
        "    v0: Velocidad inicial (m/s).\n",
        "    theta: Ángulo de lanzamiento (grados).\n",
        "    x: Distancia horizontal (m).\n",
        "    g: Aceleración de la gravedad (m/s^2).\n",
        "\n",
        "  Returns:\n",
        "    La altura del objeto en la distancia horizontal especificada.\n",
        "  \"\"\"\n",
        "  theta_rad = math.radians(theta)\n",
        "  y = x * math.tan(theta_rad) - (g * x**2) / (2 * (v0 * math.cos(theta_rad))**2)\n",
        "  return y\n",
        "\n",
        "\n",
        "def calcular_resistencia_total(v, i):\n",
        "  \"\"\"\n",
        "  Calcula la resistencia total de un circuito usando la Ley de Ohm.\n",
        "\n",
        "  Args:\n",
        "    v: Voltaje (V).\n",
        "    i: Corriente (A).\n",
        "\n",
        "  Returns:\n",
        "    La resistencia total del circuito (Ω).\n",
        "  \"\"\"\n",
        "  return v / i\n",
        "\n",
        "\n",
        "def calcular_nueva_corriente(v, r, r2):\n",
        "  \"\"\"\n",
        "  Calcula la nueva corriente en un circuito con una resistencia adicional en serie.\n",
        "\n",
        "  Args:\n",
        "    v: Voltaje (V).\n",
        "    r: Resistencia inicial (Ω).\n",
        "    r2: Resistencia adicional en serie (Ω).\n",
        "\n",
        "  Returns:\n",
        "    La nueva corriente en el circuito (A).\n",
        "  \"\"\"\n",
        "  r_nueva = r + r2\n",
        "  return v / r_nueva\n",
        "\n",
        "\n",
        "# Datos del problema (Ecuación 3)\n",
        "v = 12  # Voltaje (V)\n",
        "r = 15  # Resistencia de la lámpara (Ω)\n",
        "i = 0.6  # Corriente en el circuito (A)\n",
        "r2 = 10  # Resistencia adicional (Ω)\n",
        "\n",
        "# Pregunta 1: Resistencia total efectiva\n",
        "r_total = calcular_resistencia_total(v, i)\n",
        "\n",
        "print(\"La resistencia total efectiva del circuito es:\", r_total, \"Ω\")\n",
        "\n",
        "# Pregunta 2: Nueva corriente con resistencia adicional en serie\n",
        "i_nueva = calcular_nueva_corriente(v, r, r2)\n",
        "\n",
        "print(\"La nueva corriente que pasa por el circuito es:\", i_nueva, \"A\")\n"
      ],
      "metadata": {
        "colab": {
          "base_uri": "https://localhost:8080/"
        },
        "id": "O5_1UAtb-aF5",
        "outputId": "3890a4dd-4264-434d-c1dc-81f2ed38ddff"
      },
      "execution_count": 3,
      "outputs": [
        {
          "output_type": "stream",
          "name": "stdout",
          "text": [
            "La resistencia total efectiva del circuito es: 20.0 Ω\n",
            "La nueva corriente que pasa por el circuito es: 0.48 A\n"
          ]
        }
      ]
    }
  ]
}